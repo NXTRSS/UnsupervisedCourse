{
 "cells": [
  {
   "cell_type": "markdown",
   "metadata": {
    "id": "n25elUX87RsL"
   },
   "source": [
    "# Klasteryzacja"
   ]
  },
  {
   "cell_type": "code",
   "execution_count": null,
   "metadata": {
    "executionInfo": {
     "elapsed": 2281,
     "status": "ok",
     "timestamp": 1608295340775,
     "user": {
      "displayName": "Damian Brzoza",
      "photoUrl": "https://lh3.googleusercontent.com/a-/AOh14GjMygre-zb6DTZEmbrLMKsC-ZkLB5vAzG8_3wEfWw=s64",
      "userId": "04322131142213933342"
     },
     "user_tz": -60
    },
    "id": "j-KwrJtG7RsQ"
   },
   "outputs": [],
   "source": [
    "import numpy as np\n",
    "from numpy.random import RandomState\n",
    "import matplotlib.pyplot as plt"
   ]
  },
  {
   "cell_type": "code",
   "execution_count": null,
   "metadata": {
    "executionInfo": {
     "elapsed": 924,
     "status": "ok",
     "timestamp": 1608295462671,
     "user": {
      "displayName": "Damian Brzoza",
      "photoUrl": "https://lh3.googleusercontent.com/a-/AOh14GjMygre-zb6DTZEmbrLMKsC-ZkLB5vAzG8_3wEfWw=s64",
      "userId": "04322131142213933342"
     },
     "user_tz": -60
    },
    "id": "ZWO-SK4u7RsQ"
   },
   "outputs": [],
   "source": [
    "rnd = RandomState(25)\n",
    "x1 = sorted(list(rnd.normal(1.0, 0.5, size=100)))\n",
    "y1 = list(rnd.normal(2.0, 0.4, size=100))\n",
    "x2 = sorted(list(rnd.normal(2.0, 0.3, size=100)))\n",
    "y2 = list(rnd.normal(4.0, 0.4, size=100))\n",
    "x3 = sorted(list(rnd.normal(2.5, 0.4, size=100)))\n",
    "y3 = list(rnd.normal(2.0, 0.5, size=100))"
   ]
  },
  {
   "cell_type": "code",
   "execution_count": null,
   "metadata": {
    "colab": {
     "base_uri": "https://localhost:8080/",
     "height": 265
    },
    "executionInfo": {
     "elapsed": 942,
     "status": "ok",
     "timestamp": 1608295456657,
     "user": {
      "displayName": "Damian Brzoza",
      "photoUrl": "https://lh3.googleusercontent.com/a-/AOh14GjMygre-zb6DTZEmbrLMKsC-ZkLB5vAzG8_3wEfWw=s64",
      "userId": "04322131142213933342"
     },
     "user_tz": -60
    },
    "id": "T1EuUpIB7RsR",
    "outputId": "d1058bdc-9cab-4ef1-fab9-86dc512d6ee0"
   },
   "outputs": [],
   "source": [
    "fig, ax = plt.subplots()\n",
    "ax.scatter(x1+x2+x3, y1+y2+y3)\n",
    "plt.show()"
   ]
  },
  {
   "cell_type": "code",
   "execution_count": null,
   "metadata": {
    "id": "KlAHPyUwApbM"
   },
   "outputs": [],
   "source": [
    "models = []\n",
    "# First situation - 1 cluster:\n",
    "first_model = [(x1+x2+x3, y1+y2+y3)]\n",
    "\n",
    "# Second situation - 2 clusters:\n",
    "second_model = [(x1+x3, y1+y3), (x2,y2)]\n",
    "\n",
    "# Third situation - 3 clusters:\n",
    "third_model = [(x1, y1), (x2, y2), (x3, y3)]\n",
    "\n",
    "# Fourth situation - 4 clusters:\n",
    "fourth_model = [(x1[:int(len(x1)/2)], y1[:int(len(y1)/2)]), \n",
    "                (x1[int(len(x1)/2):], y1[int(len(y1)/2):]),\n",
    "                (x2, y2), (x3, y3)]\n",
    "\n",
    "# Fifth situation - 5 clusters:\n",
    "fifth_model = [(x1[:int(len(x1)/2)], y1[:int(len(y1)/2)]), \n",
    "               (x1[int(len(x1)/2):], y1[int(len(y1)/2):]),\n",
    "               (x2[:int(len(x2)/2)], y2[:int(len(y2)/2)]), \n",
    "               (x2[int(len(x2)/2):], y2[int(len(y2)/2):]),\n",
    "               (x3, y3)]\n",
    "\n",
    "# Sixth situation - 6 clusters:\n",
    "sixth_model = [(x1[:int(len(x1)/2)], y1[:int(len(y1)/2)]), \n",
    "               (x1[int(len(x1)/2):], y1[int(len(y1)/2):]),\n",
    "               (x2[:int(len(x2)/2)], y2[:int(len(y2)/2)]), \n",
    "               (x2[int(len(x2)/2):], y2[int(len(y2)/2):]),\n",
    "               (x3[:int(len(x3)/2)], y3[:int(len(y3)/2)]), \n",
    "               (x3[int(len(x3)/2):], y3[int(len(y3)/2):])]\n",
    "models = [first_model, second_model, third_model, \n",
    "          fourth_model, fifth_model, sixth_model]"
   ]
  },
  {
   "cell_type": "code",
   "execution_count": null,
   "metadata": {
    "id": "PaVV9IdPDh6_"
   },
   "outputs": [],
   "source": [
    "def show_clusters(clusters):\n",
    "    fig, ax = plt.subplots()\n",
    "    print(len(clusters))\n",
    "    for x,y in clusters:\n",
    "        ax.scatter(x, y)\n",
    "    plt.show()"
   ]
  },
  {
   "cell_type": "code",
   "execution_count": null,
   "metadata": {
    "colab": {
     "base_uri": "https://localhost:8080/",
     "height": 282
    },
    "executionInfo": {
     "elapsed": 900,
     "status": "ok",
     "timestamp": 1608245965875,
     "user": {
      "displayName": "Mateusz Zimoch",
      "photoUrl": "",
      "userId": "02697718990704074148"
     },
     "user_tz": -60
    },
    "id": "kNDjfQksD0bQ",
    "outputId": "2053247d-2cc3-4794-a650-23a4068f9fef"
   },
   "outputs": [],
   "source": [
    "show_clusters(sixth_model)"
   ]
  },
  {
   "cell_type": "markdown",
   "metadata": {},
   "source": [
    "## SSE"
   ]
  },
  {
   "cell_type": "code",
   "execution_count": null,
   "metadata": {
    "id": "hngEVOll7RsS"
   },
   "outputs": [],
   "source": [
    "def sse(clusters):\n",
    "    pass\n",
    "        \n",
    "def calculate_distance(xs, ys):\n",
    "    pass"
   ]
  },
  {
   "cell_type": "code",
   "execution_count": null,
   "metadata": {
    "colab": {
     "base_uri": "https://localhost:8080/",
     "height": 265
    },
    "executionInfo": {
     "elapsed": 1594,
     "status": "ok",
     "timestamp": 1608245969871,
     "user": {
      "displayName": "Mateusz Zimoch",
      "photoUrl": "",
      "userId": "02697718990704074148"
     },
     "user_tz": -60
    },
    "id": "DYGfi1Nu7RsS",
    "outputId": "7d32b15e-8fc5-401b-9d7c-166f42083dae"
   },
   "outputs": [],
   "source": [
    "distances = []\n",
    "for model in models:\n",
    "    distances.append(sse(model))\n",
    "\n",
    "\n",
    "plt.plot(list(range(len(distances))), distances)\n",
    "plt.show()"
   ]
  },
  {
   "cell_type": "markdown",
   "metadata": {
    "id": "RXgmsVKr7RsS"
   },
   "source": [
    "## Silhouette"
   ]
  },
  {
   "cell_type": "code",
   "execution_count": null,
   "metadata": {
    "colab": {
     "base_uri": "https://localhost:8080/",
     "height": 231
    },
    "executionInfo": {
     "elapsed": 1652,
     "status": "error",
     "timestamp": 1608255726195,
     "user": {
      "displayName": "Damian Brzoza",
      "photoUrl": "https://lh3.googleusercontent.com/a-/AOh14GjMygre-zb6DTZEmbrLMKsC-ZkLB5vAzG8_3wEfWw=s64",
      "userId": "04322131142213933342"
     },
     "user_tz": -60
    },
    "id": "mlOyY8_77RsS",
    "outputId": "25cf3dbd-8800-4eae-f054-ecdf6d9bfbab"
   },
   "outputs": [],
   "source": [
    "def dist_to_cluster(point, cluster):\n",
    "    pass\n",
    "\n",
    "def a(point, cluster):\n",
    "    pass\n",
    "\n",
    "def b(point, other_clusters):\n",
    "    pass\n",
    "\n",
    "def silhouette(point, cluster, other_clusters):\n",
    "    pass\n",
    "\n",
    "def global_silhouette(clusters):\n",
    "    pass\n",
    "\n",
    "sil = []\n",
    "for model in models:\n",
    "    to_dict = {}\n",
    "    for index, cluster in enumerate(model):\n",
    "        to_dict[index] = cluster\n",
    "  \n",
    "    returned = global_silhouette(to_dict)\n",
    "    sil.append(returned)\n",
    "\n",
    "plt.plot(list(range(1, len(sil)+1)), sil)\n",
    "plt.show()"
   ]
  },
  {
   "cell_type": "markdown",
   "metadata": {
    "id": "Ay6w4GiE7RsT"
   },
   "source": [
    "## K-means"
   ]
  },
  {
   "cell_type": "markdown",
   "metadata": {
    "id": "aSjApf2z7RsT"
   },
   "source": [
    "Najpierw pobierzmy niewielki zbiór danych, punktów mających dwa atrybuty, x i y"
   ]
  },
  {
   "cell_type": "code",
   "execution_count": null,
   "metadata": {
    "colab": {
     "base_uri": "https://localhost:8080/",
     "height": 306
    },
    "executionInfo": {
     "elapsed": 9019,
     "status": "ok",
     "timestamp": 1608245987399,
     "user": {
      "displayName": "Mateusz Zimoch",
      "photoUrl": "",
      "userId": "02697718990704074148"
     },
     "user_tz": -60
    },
    "id": "Z0sv6LkN7RsT",
    "outputId": "c8c60c9c-6dd9-4598-bd53-0b3e85a9d190"
   },
   "outputs": [],
   "source": [
    "!git clone https://github.com/matzim95/ML-datasets\n",
    "\n",
    "%matplotlib inline\n",
    "import pandas as pd\n",
    "\n",
    "points = pd.read_csv('ML-datasets/points.csv', header = None)\n",
    "\n",
    "\n",
    "points.head()"
   ]
  },
  {
   "cell_type": "markdown",
   "metadata": {
    "id": "5_K98l3Q7RsU"
   },
   "source": [
    "Sprawdźmy sami, na ile klastrów powinniśmy podzielić ten zbiór, użyjmy matplotliba"
   ]
  },
  {
   "cell_type": "code",
   "execution_count": null,
   "metadata": {
    "colab": {
     "base_uri": "https://localhost:8080/",
     "height": 265
    },
    "executionInfo": {
     "elapsed": 9014,
     "status": "ok",
     "timestamp": 1608245987400,
     "user": {
      "displayName": "Mateusz Zimoch",
      "photoUrl": "",
      "userId": "02697718990704074148"
     },
     "user_tz": -60
    },
    "id": "2OQrQOCA7RsU",
    "outputId": "06f9bc11-b4b6-4a64-a4e9-b74acf4cf14a"
   },
   "outputs": [],
   "source": [
    "import matplotlib.pyplot as plt\n",
    "\n",
    "fig, ax = plt.subplots()\n",
    "xs = points.loc[:,0]\n",
    "ys = points.loc[:,1]\n",
    "ax.scatter(xs, ys)\n",
    "plt.show()"
   ]
  },
  {
   "cell_type": "markdown",
   "metadata": {
    "id": "MUCHzgGX7RsU"
   },
   "source": [
    "Widzimy że powinniśmy zatem podzielić zbiór na trzy klastry. Zróbmy to zatem!"
   ]
  },
  {
   "cell_type": "code",
   "execution_count": null,
   "metadata": {
    "id": "zlkFfxbN7RsU"
   },
   "outputs": [],
   "source": [
    "# Import KMeans\n",
    "from sklearn.cluster import KMeans\n",
    "\n",
    "# Create a KMeans instance with 3 clusters: model\n",
    "\n",
    "\n",
    "# Fit model to points\n",
    "\n",
    "\n",
    "# Assing output of model prediction for points to labels\n"
   ]
  },
  {
   "cell_type": "markdown",
   "metadata": {
    "id": "e_hiOavC7RsU"
   },
   "source": [
    "teraz zobaczymy jak to wygląda"
   ]
  },
  {
   "cell_type": "code",
   "execution_count": null,
   "metadata": {
    "colab": {
     "base_uri": "https://localhost:8080/",
     "height": 265
    },
    "executionInfo": {
     "elapsed": 10623,
     "status": "ok",
     "timestamp": 1608245989020,
     "user": {
      "displayName": "Mateusz Zimoch",
      "photoUrl": "",
      "userId": "02697718990704074148"
     },
     "user_tz": -60
    },
    "id": "48QPoyHq7RsV",
    "outputId": "fe05ddc4-49d4-4ab1-f2d3-1ebb6db2c6a1"
   },
   "outputs": [],
   "source": [
    "plt.scatter(xs, ys, c=labels, alpha=0.5)\n",
    "plt.show()"
   ]
  },
  {
   "cell_type": "markdown",
   "metadata": {
    "id": "f9whcDEv7RsV"
   },
   "source": [
    "Możemy również na podstawie już zrobionych klastrów dokonać predykcji labelków dla nowych punktów. Teraz natomiast poszukajmy klastrów naszych centroidów."
   ]
  },
  {
   "cell_type": "code",
   "execution_count": null,
   "metadata": {
    "colab": {
     "base_uri": "https://localhost:8080/",
     "height": 265
    },
    "executionInfo": {
     "elapsed": 11371,
     "status": "ok",
     "timestamp": 1608245989774,
     "user": {
      "displayName": "Mateusz Zimoch",
      "photoUrl": "",
      "userId": "02697718990704074148"
     },
     "user_tz": -60
    },
    "id": "zU-dsiUM7RsV",
    "outputId": "f2b0b96c-21b6-47bc-99bb-41a4656b250c"
   },
   "outputs": [],
   "source": [
    "# Assign the cluster centers: centroids\n",
    "centroids = model.cluster_centers_\n",
    "\n",
    "# Assign the columns of centroids: centroids_x, centroids_y\n",
    "centroids_x = centroids[:,0]\n",
    "centroids_y = centroids[:,1]\n",
    "\n",
    "fig, ax = plt.subplots()\n",
    "\n",
    "# Make a scatter plot of centroids_x and centroids_y\n",
    "ax.scatter(centroids_x, centroids_y, marker='D', s=50)\n",
    "plt.show()"
   ]
  },
  {
   "cell_type": "code",
   "execution_count": null,
   "metadata": {
    "colab": {
     "base_uri": "https://localhost:8080/",
     "height": 265
    },
    "executionInfo": {
     "elapsed": 11367,
     "status": "ok",
     "timestamp": 1608245989775,
     "user": {
      "displayName": "Mateusz Zimoch",
      "photoUrl": "",
      "userId": "02697718990704074148"
     },
     "user_tz": -60
    },
    "id": "CB0wdfXW7RsV",
    "outputId": "3813af7a-3f6c-4c5f-b0a6-20c1ec1fa7c1"
   },
   "outputs": [],
   "source": [
    "fig, ax = plt.subplots()\n",
    "ax.scatter(xs, ys, c=labels, alpha=0.5)\n",
    "ax.scatter(centroids_x, centroids_y, marker='D', s=50)\n",
    "plt.show()"
   ]
  },
  {
   "cell_type": "markdown",
   "metadata": {
    "id": "xX7EDoUy7RsW"
   },
   "source": [
    "A jak ocenić, ile klastrów powinno być, jeśli nie widać tego na pierwszy rzut oka? Jeśli mamy dane z labelkami, możemy łatwo to ocenić za pomocą satndardowych miar. Jeśli jednak nie, musimy użyć innej miary. Njabardziej zależy nam na tym, żeby odległości punktów od środków klastrów były jak najmniejsze (klastry były skonsolidowane). Do tego służy wbudowana miara inertias. Pokazuje nam ona sumy odległości wszystkich punktów od ich centroidów."
   ]
  },
  {
   "cell_type": "code",
   "execution_count": null,
   "metadata": {
    "colab": {
     "base_uri": "https://localhost:8080/",
     "height": 279
    },
    "executionInfo": {
     "elapsed": 11361,
     "status": "ok",
     "timestamp": 1608245989776,
     "user": {
      "displayName": "Mateusz Zimoch",
      "photoUrl": "",
      "userId": "02697718990704074148"
     },
     "user_tz": -60
    },
    "id": "K6glGGnT7RsW",
    "outputId": "81548782-99bc-48dc-965f-0184cf0c448e"
   },
   "outputs": [],
   "source": [
    "ks = range(1, 6)\n",
    "inertias = []\n",
    "\n",
    "for k in ks:\n",
    "    # Create a KMeans instance with k clusters: model\n",
    "    \n",
    "    \n",
    "    # Fit model to samples\n",
    "    \n",
    "    \n",
    "    # Append the inertia to the list of inertias\n",
    "    \n",
    "    \n",
    "# Plot ks vs inertias\n",
    "fig, ax = plt.subplots()\n",
    "ax.plot(ks, inertias, '-o')\n",
    "ax.set_xlabel('number of clusters, k')\n",
    "ax.set_ylabel('inertia')\n",
    "ax.set_xticks(ks)\n",
    "plt.show()\n"
   ]
  },
  {
   "cell_type": "markdown",
   "metadata": {
    "id": "K6c5Dj1l7RsW"
   },
   "source": [
    "Jak widać, miara jest już dość mała dla 3 klastrów. Oczywiście dalej się zmienjsza, ale zależy nam żeby klastrów nie było też za dużo. Należy tutaj znaleźć pewien złoty środek."
   ]
  },
  {
   "cell_type": "markdown",
   "metadata": {
    "id": "3zX9Mm8Q7RsW"
   },
   "source": [
    "W przypadku, gdy mamy do czynienia ze zbiorem zalebelowanym, możemy użyć tradycyjnych miar jakości"
   ]
  },
  {
   "cell_type": "code",
   "execution_count": null,
   "metadata": {
    "id": "lF7-dYpv7RsX"
   },
   "outputs": [],
   "source": [
    "import pandas as pd\n",
    "def load_dataset(filename, class_column, index_col=None):\n",
    "    dataset = pd.read_csv(f'ML-datasets/{filename}.csv', index_col=index_col)\n",
    "    dataset['class'] = dataset[class_column].astype('category').cat.codes\n",
    "    classes = dataset.pop(class_column).unique()\n",
    "    return dataset, classes\n",
    "\n",
    "iris, iris_classes = load_dataset('iris', 'species')\n",
    "\n",
    "y = iris.pop('class')\n",
    "X = iris"
   ]
  },
  {
   "cell_type": "code",
   "execution_count": null,
   "metadata": {
    "colab": {
     "base_uri": "https://localhost:8080/"
    },
    "executionInfo": {
     "elapsed": 11353,
     "status": "ok",
     "timestamp": 1608245989778,
     "user": {
      "displayName": "Mateusz Zimoch",
      "photoUrl": "",
      "userId": "02697718990704074148"
     },
     "user_tz": -60
    },
    "id": "TbUaJ1w87RsX",
    "outputId": "645ebf12-4b81-4406-a5cf-32dac461b921"
   },
   "outputs": [],
   "source": [
    "# Create a KMeans model with 3 clusters: model\n",
    "\n",
    "\n",
    "# Use fit_predict to fit model and obtain cluster labels: labels\n",
    "\n",
    "\n",
    "# Create a DataFrame with labels and varieties as columns: df\n",
    "df = pd.DataFrame({'labels': labels, 'varieties': y})\n",
    "\n",
    "# Create crosstab: ct\n",
    "ct = pd.crosstab(df['labels'], df['varieties'])\n",
    "\n",
    "# Display ct\n",
    "print(ct)"
   ]
  },
  {
   "cell_type": "markdown",
   "metadata": {
    "id": "_QQNboef7RsX"
   },
   "source": [
    "Teraz trudniejszy zbiór, niech sami zaimplementują to dla wine i pokażą tablicę crosstab, wyciągną wnioski"
   ]
  },
  {
   "cell_type": "code",
   "execution_count": null,
   "metadata": {
    "colab": {
     "base_uri": "https://localhost:8080/",
     "height": 204
    },
    "executionInfo": {
     "elapsed": 11348,
     "status": "ok",
     "timestamp": 1608245989778,
     "user": {
      "displayName": "Mateusz Zimoch",
      "photoUrl": "",
      "userId": "02697718990704074148"
     },
     "user_tz": -60
    },
    "id": "mVVJdCP57RsX",
    "outputId": "99d62f7a-28aa-4052-afbb-299573de1b4a"
   },
   "outputs": [],
   "source": [
    "wine, wine_classes = load_dataset('wine', 'Class')\n",
    "\n",
    "y = wine.pop('class')\n",
    "X = wine\n",
    "X.head()"
   ]
  },
  {
   "cell_type": "code",
   "execution_count": null,
   "metadata": {
    "colab": {
     "base_uri": "https://localhost:8080/"
    },
    "executionInfo": {
     "elapsed": 11767,
     "status": "ok",
     "timestamp": 1608245990203,
     "user": {
      "displayName": "Mateusz Zimoch",
      "photoUrl": "",
      "userId": "02697718990704074148"
     },
     "user_tz": -60
    },
    "id": "tbZm4h3d7RsX",
    "outputId": "58fe4651-bf4e-44e0-e4f4-4cb7c0223422"
   },
   "outputs": [],
   "source": [
    "# Create a KMeans model with 3 clusters: model\n",
    "\n",
    "\n",
    "# Use fit_predict to fit model and obtain cluster labels: labels\n",
    "\n",
    "\n",
    "# Create a DataFrame with labels and varieties as columns: df\n",
    "df = pd.DataFrame({'labels': labels, 'varieties': y})\n",
    "\n",
    "# Create crosstab: ct\n",
    "ct = pd.crosstab(df['labels'], df['varieties'])\n",
    "\n",
    "# Display ct\n",
    "print(ct)"
   ]
  },
  {
   "cell_type": "markdown",
   "metadata": {
    "id": "yEmt1idl7RsY"
   },
   "source": [
    "Wyniki są, delikatnie mówiąc, kiepskie. Wynika to z faktu, że poszczególne atrybuty w zbiorze win mają bardzo różną wariancję (rozmieszczenie atrybutów). Co bardzo przeszkadza w dobrej klasteryzacji. Zobaczmy to na wykresie."
   ]
  },
  {
   "cell_type": "code",
   "execution_count": null,
   "metadata": {
    "colab": {
     "base_uri": "https://localhost:8080/",
     "height": 265
    },
    "executionInfo": {
     "elapsed": 11763,
     "status": "ok",
     "timestamp": 1608245990204,
     "user": {
      "displayName": "Mateusz Zimoch",
      "photoUrl": "",
      "userId": "02697718990704074148"
     },
     "user_tz": -60
    },
    "id": "3Vskn1PU7RsY",
    "outputId": "1d3776ca-aeeb-455d-f845-c137eb2a329f"
   },
   "outputs": [],
   "source": [
    "fig, axs = plt.subplots(2, 1)\n",
    "axs[0].scatter(X['OD280/OD315 of diluted wines'], X['Proline'])\n",
    "axs[1].axis(\"equal\")\n",
    "axs[1].scatter(X['OD280/OD315 of diluted wines'], X['Proline'])\n",
    "plt.show()"
   ]
  },
  {
   "cell_type": "code",
   "execution_count": null,
   "metadata": {
    "colab": {
     "base_uri": "https://localhost:8080/"
    },
    "executionInfo": {
     "elapsed": 11760,
     "status": "ok",
     "timestamp": 1608245990205,
     "user": {
      "displayName": "Mateusz Zimoch",
      "photoUrl": "",
      "userId": "02697718990704074148"
     },
     "user_tz": -60
    },
    "id": "rggoZ9b67RsY",
    "outputId": "e6b288e0-e572-4ad7-fb75-8f9b92eb51b7"
   },
   "outputs": [],
   "source": [
    "for column in X:\n",
    "    print(X[column].var())"
   ]
  },
  {
   "cell_type": "markdown",
   "metadata": {
    "id": "MjZ7Ft7b7RsY"
   },
   "source": [
    "Żeby to naprawić należy przeprowadzić standaryzację. Do tego służy nam gotowa bilbioteka"
   ]
  },
  {
   "cell_type": "code",
   "execution_count": null,
   "metadata": {
    "id": "v7tBxjME7RsZ"
   },
   "outputs": [],
   "source": [
    "from sklearn.preprocessing import StandardScaler\n",
    "\n",
    "# Create scaler: scaler\n",
    "\n",
    "# Fit scaler based on your data\n",
    "\n",
    "# Create new features - X_scaled\n",
    "\n",
    "\n",
    "labels = model.fit_predict(X_scaled)"
   ]
  },
  {
   "cell_type": "code",
   "execution_count": null,
   "metadata": {
    "colab": {
     "base_uri": "https://localhost:8080/"
    },
    "executionInfo": {
     "elapsed": 11752,
     "status": "ok",
     "timestamp": 1608245990206,
     "user": {
      "displayName": "Mateusz Zimoch",
      "photoUrl": "",
      "userId": "02697718990704074148"
     },
     "user_tz": -60
    },
    "id": "rywhokUv7RsZ",
    "outputId": "2613f132-9974-450f-e40c-b19f7a295f78"
   },
   "outputs": [],
   "source": [
    "# Create a DataFrame with labels and varieties as columns: df\n",
    "df = pd.DataFrame({'labels': labels, 'varieties': y})\n",
    "\n",
    "# Create crosstab: ct\n",
    "ct = pd.crosstab(df['labels'], df['varieties'])\n",
    "\n",
    "# Display ct\n",
    "print(ct)"
   ]
  },
  {
   "cell_type": "markdown",
   "metadata": {
    "id": "NSLK-xqi7RsZ"
   },
   "source": [
    "Można również zrobić gotowy pipeline (ścieżkę, tak aby preprocesing i klasteryzacja następowały automatycznie po sobie)"
   ]
  },
  {
   "cell_type": "code",
   "execution_count": null,
   "metadata": {
    "id": "fKXUFaP87RsZ"
   },
   "outputs": [],
   "source": [
    "from sklearn.pipeline import make_pipeline\n",
    "\n",
    "pipeline = make_pipeline(scaler, model)\n",
    "pipeline.fit(X)\n",
    "labels = pipeline.predict(X)"
   ]
  },
  {
   "cell_type": "markdown",
   "metadata": {
    "id": "eix-yS877RsZ"
   },
   "source": [
    "Możemy również użyć normalizacji, która w odróżnieniu od standaryzacji, nie bierze całego rozkładu cech i nie prowadzi do zusykania wariancji 1, ale skaluje każdą próbkę z osobna, do wartości [0,1]"
   ]
  },
  {
   "cell_type": "markdown",
   "metadata": {
    "id": "VyI2rmF67RsZ"
   },
   "source": [
    "Experiment with multiple scaling methods can dramatically increase your score on classification tasks, even when you hyperparameters are tuned. So, you should consider the scaling method as an important hyperparameter of your model.\n",
    "Scaling methods affect differently on different classifiers. Distance-based classifiers like SVM, KNN, and MLP(neural network) dramatically benefit from scaling. But even trees (CART, RF), that are agnostic to some of the scaling methods, can benefit from other methods."
   ]
  },
  {
   "cell_type": "code",
   "execution_count": null,
   "metadata": {
    "colab": {
     "base_uri": "https://localhost:8080/"
    },
    "executionInfo": {
     "elapsed": 11742,
     "status": "ok",
     "timestamp": 1608245990207,
     "user": {
      "displayName": "Mateusz Zimoch",
      "photoUrl": "",
      "userId": "02697718990704074148"
     },
     "user_tz": -60
    },
    "id": "ESV-SXoq7Rsa",
    "outputId": "213196e3-284c-4c4b-f818-60b341d89841"
   },
   "outputs": [],
   "source": [
    "from sklearn.preprocessing import Normalizer\n",
    "\n",
    "normalizer = Normalizer()\n",
    "pipeline = make_pipeline(normalizer, model)\n",
    "pipeline.fit(X)\n",
    "labels = pipeline.predict(X)\n",
    "\n",
    "# Create a DataFrame with labels and varieties as columns: df\n",
    "df = pd.DataFrame({'labels': labels, 'varieties': y})\n",
    "\n",
    "# Create crosstab: ct\n",
    "ct = pd.crosstab(df['labels'], df['varieties'])\n",
    "\n",
    "# Display ct\n",
    "print(ct)"
   ]
  },
  {
   "cell_type": "markdown",
   "metadata": {
    "id": "awxa1_xq7Rsa"
   },
   "source": [
    "# Klasteryzacja hierarchiczna"
   ]
  },
  {
   "cell_type": "markdown",
   "metadata": {
    "id": "eDdTsfkv7Rsb"
   },
   "source": [
    "Przejdźmy teraz do klasteryzacji hierarchicznej. Do tego celu użyjemy zbioru Eurowizji 2016, w którym za wiersze służą kraje, a za kolumny ilości punktów, które przyznały psozczególnym piosenkom. Pobierzmy go ze zbioru."
   ]
  },
  {
   "cell_type": "code",
   "execution_count": null,
   "metadata": {
    "colab": {
     "base_uri": "https://localhost:8080/"
    },
    "executionInfo": {
     "elapsed": 11738,
     "status": "ok",
     "timestamp": 1608245990208,
     "user": {
      "displayName": "Mateusz Zimoch",
      "photoUrl": "",
      "userId": "02697718990704074148"
     },
     "user_tz": -60
    },
    "id": "mrcIGEp37Rsb",
    "outputId": "281b774a-c57a-4caa-ff2c-fa4dcebd8eef"
   },
   "outputs": [],
   "source": [
    "eurovision = pd.read_csv('ML-datasets/eurovision-2016.csv')\n",
    "eurovision = eurovision.pivot(index='From country', columns='To country')['Jury Rank']\n",
    "eurovision = eurovision.fillna(0)\n",
    "eurovision.index"
   ]
  },
  {
   "cell_type": "code",
   "execution_count": null,
   "metadata": {},
   "outputs": [],
   "source": [
    "eurovision.head()"
   ]
  },
  {
   "cell_type": "markdown",
   "metadata": {
    "id": "EAHQ_Ic-7Rsb"
   },
   "source": [
    "W bibliotece scikit, metoda linkage odpowiada za klasteryzację hierarchiczną, natomiast metoda dendrogram pozwala wizualizować wynik jej pracy. Linkage 'complete' oznacza, że dystans pomiędzy klastrami będzie mierzony jako dystans pomiędzy najbardziej oddalonymi od siebie próbkami w obu klastrach"
   ]
  },
  {
   "cell_type": "code",
   "execution_count": null,
   "metadata": {
    "colab": {
     "base_uri": "https://localhost:8080/",
     "height": 322
    },
    "executionInfo": {
     "elapsed": 12129,
     "status": "ok",
     "timestamp": 1608245990604,
     "user": {
      "displayName": "Mateusz Zimoch",
      "photoUrl": "",
      "userId": "02697718990704074148"
     },
     "user_tz": -60
    },
    "id": "9WGxAtnw7Rsb",
    "outputId": "d29a5281-50e6-4347-c689-0534e0e3ab13"
   },
   "outputs": [],
   "source": [
    "from scipy.cluster.hierarchy import linkage, dendrogram\n",
    "\n",
    "# Calculate the linkage: mergings, method - complete\n",
    "\n",
    "\n",
    "# Plot the dendrogram, using varieties as labels\n",
    "\n",
    "\n",
    "plt.show()"
   ]
  },
  {
   "cell_type": "markdown",
   "metadata": {
    "id": "bvZfR0Cv7Rsc"
   },
   "source": [
    "Wysokość dendrogramu pozwala określić stopień zbliżenia poszczególnych punktów (im niżej łączenie, tym bliżej siebie elementy). Można jeszcze zrobić typ 'single', wtedy odległość między klastrami mierzona za pomocą odległości najbliżej siebie położonych punktów obu klastrów"
   ]
  },
  {
   "cell_type": "code",
   "execution_count": null,
   "metadata": {
    "colab": {
     "base_uri": "https://localhost:8080/",
     "height": 322
    },
    "executionInfo": {
     "elapsed": 12519,
     "status": "ok",
     "timestamp": 1608245990998,
     "user": {
      "displayName": "Mateusz Zimoch",
      "photoUrl": "",
      "userId": "02697718990704074148"
     },
     "user_tz": -60
    },
    "id": "7RkmT1O87Rsc",
    "outputId": "205c4011-87b1-49dc-d7fd-ffd1f22529bf"
   },
   "outputs": [],
   "source": [
    "# Calculate the linkage: mergings, method - single\n",
    "\n",
    "\n",
    "# Plot the dendrogram, using varieties as labels\n",
    "\n",
    "plt.show()"
   ]
  },
  {
   "cell_type": "markdown",
   "metadata": {
    "id": "UEWJsbtU7Rsc"
   },
   "source": [
    "Jak widać, wszystko jest na znacznie niższym poziomie. Tutaj również możemy bawić się normalizacją próbek (na przykład dać takie zadanie)"
   ]
  },
  {
   "cell_type": "code",
   "execution_count": null,
   "metadata": {
    "colab": {
     "base_uri": "https://localhost:8080/",
     "height": 322
    },
    "executionInfo": {
     "elapsed": 13406,
     "status": "ok",
     "timestamp": 1608245991889,
     "user": {
      "displayName": "Mateusz Zimoch",
      "photoUrl": "",
      "userId": "02697718990704074148"
     },
     "user_tz": -60
    },
    "id": "7Wu2c9EQ7Rsd",
    "outputId": "4fa4e2b7-7e01-4e01-b312-e012260ce0d2"
   },
   "outputs": [],
   "source": [
    "from sklearn.preprocessing import normalize\n",
    "\n",
    "# Normalize eurovision data\n",
    "\n",
    "# Calculate the linkage: mergings, method - single\n",
    "\n",
    "# Plot the dendrogram, using varieties as labels\n",
    "\n",
    "\n",
    "plt.show()"
   ]
  },
  {
   "cell_type": "markdown",
   "metadata": {
    "id": "H2OMP5o07Rsd"
   },
   "source": [
    "Możemy zobaczyć lebelki klastrów na określonej wysokości za pomocą funkcji fcluster"
   ]
  },
  {
   "cell_type": "code",
   "execution_count": null,
   "metadata": {
    "colab": {
     "base_uri": "https://localhost:8080/"
    },
    "executionInfo": {
     "elapsed": 864,
     "status": "ok",
     "timestamp": 1608247002451,
     "user": {
      "displayName": "Mateusz Zimoch",
      "photoUrl": "",
      "userId": "02697718990704074148"
     },
     "user_tz": -60
    },
    "id": "svua5EBf7Rsd",
    "outputId": "61c877a5-70ba-4608-f7a3-9f9db20facd3"
   },
   "outputs": [],
   "source": [
    "from scipy.cluster.hierarchy import fcluster\n",
    "\n",
    "labels = fcluster(mergings, 0.8*max(mergings[:,2]), criterion='distance')\n",
    "print(labels)"
   ]
  },
  {
   "cell_type": "markdown",
   "metadata": {
    "id": "YNVZlGNT7Rsd"
   },
   "source": [
    "Inna metoda do wizualizacji i klasteryzacji danych - tSNE - t-distibuted stochastic neighbour embedding. mapuje na przestrzeń 2 lub 3 wymiarową. Świetna do odkrywania zbiorów. Przykładowo iris ma 4 atrybuty, ale możemy je przerzucić na 2. metoda tSNE ma learning rate. Za każdym uruchomieniem daje inny wykres xd.\n",
    "\n",
    "If the learning rate is too high, the data may look like a ‘ball’ with any point approximately equidistant from its nearest neighbours. If the learning rate is too low, most points may look compressed in a dense cloud with few outliers. If the cost function gets stuck in a bad local minimum increasing the learning rate may help."
   ]
  },
  {
   "cell_type": "code",
   "execution_count": null,
   "metadata": {
    "colab": {
     "base_uri": "https://localhost:8080/",
     "height": 265
    },
    "executionInfo": {
     "elapsed": 1947,
     "status": "ok",
     "timestamp": 1608247459427,
     "user": {
      "displayName": "Mateusz Zimoch",
      "photoUrl": "",
      "userId": "02697718990704074148"
     },
     "user_tz": -60
    },
    "id": "28XBIPs67Rsd",
    "outputId": "bb2c3db0-7e50-4141-8b93-13aaae42f89b"
   },
   "outputs": [],
   "source": [
    "from sklearn.manifold import TSNE\n",
    "\n",
    "iris, iris_classes = load_dataset('iris', 'species')\n",
    "\n",
    "y = iris.pop('class')\n",
    "X = iris\n",
    "\n",
    "# Create a TSNE instance: model\n",
    "model = TSNE(learning_rate=300)\n",
    "\n",
    "# Apply fit_transform to samples: tsne_features\n",
    "tsne_features = model.fit_transform(X)\n",
    "\n",
    "# Select the 0th feature: xs\n",
    "xs = tsne_features[:,0]\n",
    "\n",
    "# Select the 1st feature: ys\n",
    "ys = tsne_features[:,1]\n",
    "\n",
    "# Scatter plot, coloring by variety_numbers\n",
    "plt.scatter(xs, ys, c=y)\n",
    "plt.show()"
   ]
  },
  {
   "cell_type": "markdown",
   "metadata": {
    "id": "0uGYwTI77Rse"
   },
   "source": [
    "# Redukcja wymiarowości"
   ]
  },
  {
   "cell_type": "markdown",
   "metadata": {
    "id": "vjAtInbQ7Rse"
   },
   "source": [
    "Przypomnienie po co redukować:\n",
    "    -bardziej efektywne obliczeniowo\n",
    "    -mniej miejsca na storage\n",
    "    -eliminujemy szumy i niepotrzebne informacje\n",
    "    -mniejszy problem przy klasyfikacji, regresji itd."
   ]
  },
  {
   "cell_type": "markdown",
   "metadata": {
    "id": "BfYCs4IV7Rse"
   },
   "source": [
    "PCA -principal component analysis, algorytm służący do redukcji wymiarowości.\n",
    "\n",
    "Principal Component Analysis, or PCA, is a dimensionality-reduction method that is often used to reduce the dimensionality of large data sets, by transforming a large set of variables into a smaller one that still contains most of the information in the large set.\n",
    "\n",
    "Reducing the number of variables of a data set naturally comes at the expense of accuracy, but the trick in dimensionality reduction is to trade a little accuracy for simplicity. Because smaller data sets are easier to explore and visualize and make analyzing data much easier and faster for machine learning algorithms without extraneous variables to process.\n",
    "\n",
    "So to sum up, the idea of PCA is simple — reduce the number of variables of a data set, while preserving as much information as possible.\n",
    "\n",
    "Generalnie w pierwszym kroku algorytm dąży do redukcji korelacji między danymi, żeby były bardziej niezależne od siebie, bo wtedy więcej można wyciągnąć z argumentów. Sprawdźmy korelację dla zbioru win."
   ]
  },
  {
   "attachments": {
    "v2-5c6680eca5949615992c87b36040481c_b.gif": {
     "image/gif": "[encoded data removed]"
    }
   },
   "cell_type": "markdown",
   "metadata": {},
   "source": [
    "![v2-5c6680eca5949615992c87b36040481c_b.gif](attachment:v2-5c6680eca5949615992c87b36040481c_b.gif)"
   ]
  },
  {
   "cell_type": "code",
   "execution_count": null,
   "metadata": {
    "colab": {
     "base_uri": "https://localhost:8080/",
     "height": 282
    },
    "executionInfo": {
     "elapsed": 14489,
     "status": "ok",
     "timestamp": 1608245992985,
     "user": {
      "displayName": "Mateusz Zimoch",
      "photoUrl": "",
      "userId": "02697718990704074148"
     },
     "user_tz": -60
    },
    "id": "3f53uUq77Rse",
    "outputId": "0a4c2781-9523-47e6-b6fe-73744540ea1c"
   },
   "outputs": [],
   "source": [
    "from scipy.stats import pearsonr\n",
    "\n",
    "wine, wine_classes = load_dataset('wine', 'Class')\n",
    "\n",
    "y = wine.pop('class')\n",
    "X = wine\n",
    "\n",
    "xs = wine['Total phenols']\n",
    "ys = wine['OD280/OD315 of diluted wines']\n",
    "\n",
    "fig, ax = plt.subplots()\n",
    "ax.scatter(xs, ys)\n",
    "plt.show()\n",
    "\n",
    "correlation, pvalue = pearsonr(xs, ys)\n",
    "print(correlation)"
   ]
  },
  {
   "cell_type": "code",
   "execution_count": null,
   "metadata": {},
   "outputs": [],
   "source": [
    "import seaborn as sns\n",
    "def correlation_heatmap(df):\n",
    "    _,ax=plt.subplots(figsize=(15,10))\n",
    "    colormap=sns.diverging_palette(220,10,as_cmap=True)\n",
    "    sns.heatmap(np.abs(df.corr()),annot=df.corr(),cmap=colormap)\n",
    "    \n",
    "correlation_heatmap(wine)"
   ]
  },
  {
   "cell_type": "markdown",
   "metadata": {
    "id": "Jq6A4Rz67Rse"
   },
   "source": [
    "Teraz dokonamy dekoreralizacji"
   ]
  },
  {
   "cell_type": "code",
   "execution_count": null,
   "metadata": {
    "colab": {
     "base_uri": "https://localhost:8080/",
     "height": 282
    },
    "executionInfo": {
     "elapsed": 14991,
     "status": "ok",
     "timestamp": 1608245993492,
     "user": {
      "displayName": "Mateusz Zimoch",
      "photoUrl": "",
      "userId": "02697718990704074148"
     },
     "user_tz": -60
    },
    "id": "FSjaZrY87Rsf",
    "outputId": "f2d53787-5914-4d70-df7e-d8ebfe74ee5e"
   },
   "outputs": [],
   "source": [
    "from sklearn.decomposition import PCA\n",
    "model = PCA()\n",
    "\n",
    "# Apply the fit_transform method of model to grains: pca_features\n",
    "pca_features = model.fit_transform(wine)\n",
    "\n",
    "\n",
    "correlation_heatmap(pd.DataFrame(pca_features))"
   ]
  },
  {
   "cell_type": "markdown",
   "metadata": {
    "id": "xXUf_ygl7Rsf"
   },
   "source": [
    "Po dekoreraryzacji możemy zająć się już redukcją wymiarów (metoda stratna już). Musimy znaleźć ile minimalnie parametrów potrzebuje dataset żeby być poprawnie rozpoznawanym. Algorytm PCA szuka takich cech, które mają wysoką wariancję. W tym również będzie nam pomocna biblioteka PCA."
   ]
  },
  {
   "cell_type": "code",
   "execution_count": null,
   "metadata": {
    "colab": {
     "base_uri": "https://localhost:8080/",
     "height": 296
    },
    "executionInfo": {
     "elapsed": 14988,
     "status": "ok",
     "timestamp": 1608245993493,
     "user": {
      "displayName": "Mateusz Zimoch",
      "photoUrl": "",
      "userId": "02697718990704074148"
     },
     "user_tz": -60
    },
    "id": "3AWjVpuI7Rsf",
    "outputId": "eadd1f06-0bd6-49e8-878a-666b56b0478c"
   },
   "outputs": [],
   "source": [
    "# Create scaler: scaler\n",
    "scaler = StandardScaler()\n",
    "\n",
    "# Create a PCA instance: pca\n",
    "pca = PCA()\n",
    "\n",
    "pipeline = make_pipeline(scaler, pca)\n",
    "\n",
    "# Fit the pipeline to 'samples'\n",
    "pipeline.fit(wine)\n",
    "\n",
    "# Plot the explained variances\n",
    "features = range(pca.n_components_)\n",
    "plt.bar(features, pca.explained_variance_)\n",
    "plt.xlabel('PCA feature')\n",
    "plt.ylabel('variance')"
   ]
  },
  {
   "cell_type": "code",
   "execution_count": null,
   "metadata": {},
   "outputs": [],
   "source": [
    "plt.plot(np.cumsum(pca.explained_variance_ratio_))\n",
    "plt.xlabel('number of components')\n",
    "plt.ylabel('cumulative explained variance')"
   ]
  },
  {
   "cell_type": "markdown",
   "metadata": {
    "id": "Tqzka4g47Rsf"
   },
   "source": [
    "Przejdźmy finalnie do redukcji wymiarowości. W tym celu przy definiowaniu modelu PCA musimy określić ilość komponentów jakie chcemy uzwględnić."
   ]
  },
  {
   "cell_type": "code",
   "execution_count": null,
   "metadata": {
    "colab": {
     "base_uri": "https://localhost:8080/"
    },
    "executionInfo": {
     "elapsed": 14985,
     "status": "ok",
     "timestamp": 1608245993494,
     "user": {
      "displayName": "Mateusz Zimoch",
      "photoUrl": "",
      "userId": "02697718990704074148"
     },
     "user_tz": -60
    },
    "id": "00PclWFE7Rsf",
    "outputId": "8efcccaa-9b41-4232-a9bd-ae56bcf2eb1e"
   },
   "outputs": [],
   "source": [
    "scaler = StandardScaler()\n",
    "scaler.fit(wine)\n",
    "scaled_wine = scaler.transform(wine)\n",
    "\n",
    "pca = PCA(n_components=3)\n",
    "\n",
    "# Fit the PCA instance to the scaled samples\n",
    "pca.fit(scaled_wine)\n",
    "\n",
    "# Transform the scaled samples: pca_features\n",
    "pca_features = pca.transform(scaled_wine)\n",
    "\n",
    "# Print the shape of pca_features\n",
    "print(pca_features.shape)"
   ]
  },
  {
   "cell_type": "markdown",
   "metadata": {
    "id": "cxnrP9bg7Rsg"
   },
   "source": [
    "Teraz możemy obejrzeć nasze 3 wymiary na wykresie"
   ]
  },
  {
   "cell_type": "code",
   "execution_count": null,
   "metadata": {
    "colab": {
     "base_uri": "https://localhost:8080/",
     "height": 319
    },
    "executionInfo": {
     "elapsed": 15937,
     "status": "ok",
     "timestamp": 1608245994451,
     "user": {
      "displayName": "Mateusz Zimoch",
      "photoUrl": "",
      "userId": "02697718990704074148"
     },
     "user_tz": -60
    },
    "id": "q1CEZeHc7Rsg",
    "outputId": "e200d8e8-3e95-425d-9c94-91165a74d15e"
   },
   "outputs": [],
   "source": [
    "from mpl_toolkits.mplot3d import Axes3D\n",
    "\n",
    "fig = plt.figure()\n",
    "ax = Axes3D(fig)\n",
    "\n",
    "ax.scatter(pca_features[:,0], pca_features[:,1], pca_features[:,2])\n",
    "plt.show()"
   ]
  },
  {
   "cell_type": "markdown",
   "metadata": {
    "id": "cFiXpZY27Rsg"
   },
   "source": [
    "Generalnie redukcja wymiarów sprawdza się przy długich zbiorach, takich jak zbiór słów występujących w różnych tekstach. Ale wydaje mi się że nie ma sensu już tutaj tego robić. Średnio będzie czas chyba."
   ]
  },
  {
   "cell_type": "code",
   "execution_count": null,
   "metadata": {},
   "outputs": [],
   "source": []
  },
  {
   "cell_type": "code",
   "execution_count": null,
   "metadata": {},
   "outputs": [],
   "source": [
    "iris, iris_classes = load_dataset('iris', 'species')\n",
    "\n",
    "y = iris.pop('class')\n",
    "X = iris"
   ]
  },
  {
   "cell_type": "code",
   "execution_count": null,
   "metadata": {},
   "outputs": [],
   "source": [
    "from sklearn.ensemble import RandomForestClassifier\n",
    "\n",
    "forest = RandomForestClassifier()\n",
    "forest.fit(X, y)"
   ]
  },
  {
   "cell_type": "code",
   "execution_count": null,
   "metadata": {},
   "outputs": [],
   "source": [
    "importances = forest.feature_importances_\n",
    "std = np.std([tree.feature_importances_ for tree in forest.estimators_], axis=0)\n",
    "\n",
    "forest_importances = pd.Series(importances, index=X.columns)\n",
    "\n",
    "fig, ax = plt.subplots()\n",
    "forest_importances.plot.bar(yerr=std, ax=ax)\n",
    "ax.set_title(\"Feature importances using MDI\")\n",
    "ax.set_ylabel(\"Mean decrease in impurity\")\n",
    "fig.tight_layout()"
   ]
  },
  {
   "cell_type": "code",
   "execution_count": null,
   "metadata": {},
   "outputs": [],
   "source": []
  }
 ],
 "metadata": {
  "colab": {
   "name": "Klasteryzacja.ipynb",
   "provenance": []
  },
  "kernelspec": {
   "display_name": "Python 3 (ipykernel)",
   "language": "python",
   "name": "python3"
  },
  "language_info": {
   "codemirror_mode": {
    "name": "ipython",
    "version": 3
   },
   "file_extension": ".py",
   "mimetype": "text/x-python",
   "name": "python",
   "nbconvert_exporter": "python",
   "pygments_lexer": "ipython3",
   "version": "3.8.12"
  }
 },
 "nbformat": 4,
 "nbformat_minor": 1
}
